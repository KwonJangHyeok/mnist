{
 "cells": [
  {
   "cell_type": "code",
   "execution_count": 1,
   "metadata": {},
   "outputs": [
    {
     "name": "stdout",
     "output_type": "stream",
     "text": [
      "WARNING:tensorflow:From D:\\Anaconda\\lib\\site-packages\\tensorflow_core\\python\\compat\\v2_compat.py:65: disable_resource_variables (from tensorflow.python.ops.variable_scope) is deprecated and will be removed in a future version.\n",
      "Instructions for updating:\n",
      "non-resource variables are not supported in the long term\n",
      "[8 1]\n"
     ]
    }
   ],
   "source": [
    "import pandas as pd\n",
    "import numpy as np\n",
    "import tensorflow.compat.v1 as tf\n",
    "tf.disable_v2_behavior()\n",
    "\n",
    "data = pd.read_csv('.\\\\data\\\\temp.csv')\n",
    "del data['label']\n",
    "\n",
    "#print(data.to_numpy())\n",
    "tt = data.to_numpy()\n",
    "#pd.reshape(data,shape=[None,28,28,1])\n",
    "#print(tt)\n",
    "\n",
    "asd = tt.reshape(-1,28,28,1)\n",
    "asd = data.iloc[0:10+5]\n",
    "#print(asd)\n",
    "\n",
    "asd = np.array([[1,  2,3,  4,5,6,7,8,9,0 ],\n",
    "                [9,547,347,9,3,2,6,7,3,10]])\n",
    "\n",
    "#print(tf.argmax(ww,1))\n",
    "\n",
    "\n",
    "with tf.Session() as sess:\n",
    "    sess.run(tf.global_variables_initializer())\n",
    "    ww = tf.constant(asd)\n",
    "    ww = tf.argmax(ww,1)\n",
    "    #sess.run(aa)\n",
    "    print(ww.eval())\n",
    "\n",
    "#tf.equal(tf.argmax(ww,1))"
   ]
  },
  {
   "cell_type": "code",
   "execution_count": 2,
   "metadata": {},
   "outputs": [
    {
     "name": "stdout",
     "output_type": "stream",
     "text": [
      "[0 1 0] [0 1 1]\n",
      "0.6666667\n"
     ]
    }
   ],
   "source": [
    "W = tf.Variable(tf.constant([[2.2,2],[1,1]]))\n",
    "X = tf.placeholder(shape=[2,2], dtype=tf.float32)\n",
    "Y = tf.placeholder(shape=[2,2], dtype=tf.float32)\n",
    "B = [[3],[4]]\n",
    "\n",
    "output = tf.matmul(X,W)+B\n",
    "\n",
    "with tf.Session() as sess:\n",
    "    sess.run(tf.global_variables_initializer())\n",
    "    tt = sess.run(output,feed_dict = {X:[[1,0],[4,5]], Y : [[3,3],[4,5]]})\n",
    "    \n",
    "    a = np.array([[3,3],[4,5],[6,3]])\n",
    "    b = np.array([[3,3],[4,5],[6,7]])\n",
    "    print(tf.argmax(a,1).eval(),tf.argmax(b,1).eval())\n",
    "    kk = tf.equal(tf.argmax(a,1).eval(),tf.argmax(b,1))\n",
    "    vv = tf.reduce_mean(tf.cast(kk,dtype=tf.float32))\n",
    "    \n",
    "    print(vv.eval())\n",
    "    #print(tt, kk.eval(),tf.argmax(tt,1).eval(),tf.argmax([[3,3],[4,5]],1).eval())\n",
    "    \n",
    "                "
   ]
  },
  {
   "cell_type": "code",
   "execution_count": 12,
   "metadata": {},
   "outputs": [
    {
     "name": "stdout",
     "output_type": "stream",
     "text": [
      "5\n",
      "[[10 20 30 40]\n",
      " [20 20 30 40]\n",
      " [30 20 30 40]\n",
      " [40 20 30 40]\n",
      " [50 20 30 40]]\n"
     ]
    }
   ],
   "source": [
    "value = np.array([[10,20,30,40],[20,20,30,40],[30,20,30,40],[40,20,30,40],[50,20,30,40]])\n",
    "#value = np.divide(value,7)\n",
    "#value = value.reshape(2,2)\n",
    "print(value.shape[0])\n",
    "print(value)"
   ]
  },
  {
   "cell_type": "code",
   "execution_count": 13,
   "metadata": {},
   "outputs": [
    {
     "name": "stdout",
     "output_type": "stream",
     "text": [
      "[[20 20 30 40]\n",
      " [30 20 30 40]\n",
      " [40 20 30 40]]\n"
     ]
    }
   ],
   "source": [
    "print(value[1:4])"
   ]
  },
  {
   "cell_type": "code",
   "execution_count": 15,
   "metadata": {},
   "outputs": [
    {
     "ename": "SyntaxError",
     "evalue": "invalid syntax (<ipython-input-15-2cd052ca7ca2>, line 1)",
     "output_type": "error",
     "traceback": [
      "\u001b[1;36m  File \u001b[1;32m\"<ipython-input-15-2cd052ca7ca2>\"\u001b[1;36m, line \u001b[1;32m1\u001b[0m\n\u001b[1;33m    temp = [:value]\u001b[0m\n\u001b[1;37m            ^\u001b[0m\n\u001b[1;31mSyntaxError\u001b[0m\u001b[1;31m:\u001b[0m invalid syntax\n"
     ]
    }
   ],
   "source": [
    "qq = [i in range]\n",
    "\n",
    "temp = np.hstack(value)\n",
    "print(temp)\n",
    "\n",
    "#np.savetxt('my.txt',value,fmt='%d',delimiter='\\n')"
   ]
  },
  {
   "cell_type": "code",
   "execution_count": null,
   "metadata": {},
   "outputs": [],
   "source": []
  }
 ],
 "metadata": {
  "kernelspec": {
   "display_name": "Python 3",
   "language": "python",
   "name": "python3"
  },
  "language_info": {
   "codemirror_mode": {
    "name": "ipython",
    "version": 3
   },
   "file_extension": ".py",
   "mimetype": "text/x-python",
   "name": "python",
   "nbconvert_exporter": "python",
   "pygments_lexer": "ipython3",
   "version": "3.7.3"
  }
 },
 "nbformat": 4,
 "nbformat_minor": 2
}
